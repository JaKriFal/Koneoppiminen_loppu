{
 "cells": [
  {
   "metadata": {},
   "cell_type": "markdown",
   "source": "# 4. Assignment (Linear and logistic regression)",
   "id": "c31ad4d4d195962"
  },
  {
   "metadata": {},
   "cell_type": "markdown",
   "source": "## 4.1 Objectives",
   "id": "54f7f8a7136b284c"
  },
  {
   "metadata": {},
   "cell_type": "markdown",
   "source": [
    "The objectives of this assignment are:\n",
    "\n",
    "1. To learn to use linear regression for predicting continuously varying target variables\n",
    "2. To learn to use logistic regression for binary classification\n",
    "3. To learn to estimate the relative importance of input features"
   ],
   "id": "3d0b5be2dab44073"
  },
  {
   "metadata": {},
   "cell_type": "markdown",
   "source": "## 4.2 Data understanding",
   "id": "dc5576803ef90f01"
  },
  {
   "metadata": {
    "ExecuteTime": {
     "end_time": "2024-09-18T18:04:08.022591Z",
     "start_time": "2024-09-18T18:04:06.074902Z"
    }
   },
   "cell_type": "code",
   "source": [
    "import pandas as pd\n",
    "from ucimlrepo import fetch_ucirepo\n",
    "from pprint import pprint\n",
    "  \n",
    "# fetch dataset \n",
    "real_estate_valuation = fetch_ucirepo(id=477) \n",
    "  \n",
    "# data (as pandas dataframes) \n",
    "X = real_estate_valuation.data.features \n",
    "y = real_estate_valuation.data.targets \n",
    "  \n",
    "# metadata \n",
    "pprint(real_estate_valuation.metadata) \n",
    "  \n",
    "# variable information \n",
    "print(real_estate_valuation.variables) \n",
    "\n",
    "df_x = pd.DataFrame(X)\n",
    "df_y = pd.DataFrame(y)\n",
    "df_combined = pd.concat([df_x, df_y], axis=1)\n"
   ],
   "id": "5b0146b4f489cd7",
   "outputs": [
    {
     "name": "stdout",
     "output_type": "stream",
     "text": [
      "{'abstract': 'The real estate valuation is a regression problem. The market '\n",
      "             'historical data set of real estate valuation are collected from '\n",
      "             'Sindian Dist., New Taipei City, Taiwan. ',\n",
      " 'additional_info': {'citation': None,\n",
      "                     'funded_by': None,\n",
      "                     'instances_represent': None,\n",
      "                     'preprocessing_description': None,\n",
      "                     'purpose': None,\n",
      "                     'recommended_data_splits': None,\n",
      "                     'sensitive_data': None,\n",
      "                     'summary': 'The market historical data set of real estate '\n",
      "                                'valuation are collected from Sindian Dist., '\n",
      "                                'New Taipei City, Taiwan. The â€œreal estate '\n",
      "                                'valuationâ€\\x9d is a regression problem. The '\n",
      "                                'data set was randomly split into the training '\n",
      "                                'data set (2/3 samples) and the testing data '\n",
      "                                'set (1/3 samples).',\n",
      "                     'variable_info': 'The inputs are as follows\\r\\n'\n",
      "                                      'X1=the transaction date (for example, '\n",
      "                                      '2013.250=2013 March, 2013.500=2013 '\n",
      "                                      'June, etc.)\\r\\n'\n",
      "                                      'X2=the house age (unit: year)\\r\\n'\n",
      "                                      'X3=the distance to the nearest MRT '\n",
      "                                      'station (unit: meter)\\r\\n'\n",
      "                                      'X4=the number of convenience stores in '\n",
      "                                      'the living circle on foot (integer)\\r\\n'\n",
      "                                      'X5=the geographic coordinate, latitude. '\n",
      "                                      '(unit: degree)\\r\\n'\n",
      "                                      'X6=the geographic coordinate, '\n",
      "                                      'longitude. (unit: degree)\\r\\n'\n",
      "                                      '\\r\\n'\n",
      "                                      'The output is as follow\\r\\n'\n",
      "                                      'Y= house price of unit area (10000 New '\n",
      "                                      'Taiwan Dollar/Ping, where Ping is a '\n",
      "                                      'local unit, 1 Ping = 3.3 meter '\n",
      "                                      'squared)\\r\\n'},\n",
      " 'area': 'Business',\n",
      " 'characteristics': ['Multivariate'],\n",
      " 'creators': ['I-Cheng Yeh'],\n",
      " 'data_url': 'https://archive.ics.uci.edu/static/public/477/data.csv',\n",
      " 'dataset_doi': '10.24432/C5J30W',\n",
      " 'demographics': [],\n",
      " 'feature_types': ['Integer', 'Real'],\n",
      " 'has_missing_values': 'no',\n",
      " 'index_col': ['No'],\n",
      " 'intro_paper': {'authors': 'I. Yeh, Tzu-Kuang Hsu',\n",
      "                 'doi': None,\n",
      "                 'published_in': 'Applied Soft Computing',\n",
      "                 'title': 'Building real estate valuation models with '\n",
      "                          'comparative approach through case-based reasoning',\n",
      "                 'url': 'https://dl.acm.org/doi/abs/10.1016/j.asoc.2018.01.029',\n",
      "                 'year': 2018},\n",
      " 'last_updated': 'Mon Feb 26 2024',\n",
      " 'missing_values_symbol': None,\n",
      " 'name': 'Real Estate Valuation',\n",
      " 'num_features': 6,\n",
      " 'num_instances': 414,\n",
      " 'repository_url': 'https://archive.ics.uci.edu/dataset/477/real+estate+valuation+data+set',\n",
      " 'target_col': ['Y house price of unit area'],\n",
      " 'tasks': ['Regression'],\n",
      " 'uci_id': 477,\n",
      " 'year_of_dataset_creation': 2018}\n",
      "                                     name     role        type demographic  \\\n",
      "0                                      No       ID     Integer        None   \n",
      "1                     X1 transaction date  Feature  Continuous        None   \n",
      "2                            X2 house age  Feature  Continuous        None   \n",
      "3  X3 distance to the nearest MRT station  Feature  Continuous        None   \n",
      "4         X4 number of convenience stores  Feature     Integer        None   \n",
      "5                             X5 latitude  Feature  Continuous        None   \n",
      "6                            X6 longitude  Feature  Continuous        None   \n",
      "7              Y house price of unit area   Target  Continuous        None   \n",
      "\n",
      "                                         description  \\\n",
      "0                                               None   \n",
      "1  for example, 2013.250=2013 March, 2013.500=201...   \n",
      "2                                               None   \n",
      "3                                               None   \n",
      "4  number of convenience stores in the living cir...   \n",
      "5                    geographic coordinate, latitude   \n",
      "6                   geographic coordinate, longitude   \n",
      "7  10000 New Taiwan Dollar/Ping, where Ping is a ...   \n",
      "\n",
      "                          units missing_values  \n",
      "0                          None             no  \n",
      "1                          None             no  \n",
      "2                          year             no  \n",
      "3                         meter             no  \n",
      "4                       integer             no  \n",
      "5                        degree             no  \n",
      "6                        degree             no  \n",
      "7  10000 New Taiwan Dollar/Ping             no  \n"
     ]
    }
   ],
   "execution_count": 71
  },
  {
   "metadata": {
    "ExecuteTime": {
     "end_time": "2024-09-18T17:00:32.228307Z",
     "start_time": "2024-09-18T17:00:32.220353Z"
    }
   },
   "cell_type": "code",
   "source": "df_combined",
   "id": "ec39a42399260778",
   "outputs": [
    {
     "data": {
      "text/plain": [
       "     X1 transaction date  X2 house age  \\\n",
       "0               2012.917          32.0   \n",
       "1               2012.917          19.5   \n",
       "2               2013.583          13.3   \n",
       "3               2013.500          13.3   \n",
       "4               2012.833           5.0   \n",
       "..                   ...           ...   \n",
       "409             2013.000          13.7   \n",
       "410             2012.667           5.6   \n",
       "411             2013.250          18.8   \n",
       "412             2013.000           8.1   \n",
       "413             2013.500           6.5   \n",
       "\n",
       "     X3 distance to the nearest MRT station  X4 number of convenience stores  \\\n",
       "0                                  84.87882                               10   \n",
       "1                                 306.59470                                9   \n",
       "2                                 561.98450                                5   \n",
       "3                                 561.98450                                5   \n",
       "4                                 390.56840                                5   \n",
       "..                                      ...                              ...   \n",
       "409                              4082.01500                                0   \n",
       "410                                90.45606                                9   \n",
       "411                               390.96960                                7   \n",
       "412                               104.81010                                5   \n",
       "413                                90.45606                                9   \n",
       "\n",
       "     X5 latitude  X6 longitude  Y house price of unit area  \n",
       "0       24.98298     121.54024                        37.9  \n",
       "1       24.98034     121.53951                        42.2  \n",
       "2       24.98746     121.54391                        47.3  \n",
       "3       24.98746     121.54391                        54.8  \n",
       "4       24.97937     121.54245                        43.1  \n",
       "..           ...           ...                         ...  \n",
       "409     24.94155     121.50381                        15.4  \n",
       "410     24.97433     121.54310                        50.0  \n",
       "411     24.97923     121.53986                        40.6  \n",
       "412     24.96674     121.54067                        52.5  \n",
       "413     24.97433     121.54310                        63.9  \n",
       "\n",
       "[414 rows x 7 columns]"
      ],
      "text/html": [
       "<div>\n",
       "<style scoped>\n",
       "    .dataframe tbody tr th:only-of-type {\n",
       "        vertical-align: middle;\n",
       "    }\n",
       "\n",
       "    .dataframe tbody tr th {\n",
       "        vertical-align: top;\n",
       "    }\n",
       "\n",
       "    .dataframe thead th {\n",
       "        text-align: right;\n",
       "    }\n",
       "</style>\n",
       "<table border=\"1\" class=\"dataframe\">\n",
       "  <thead>\n",
       "    <tr style=\"text-align: right;\">\n",
       "      <th></th>\n",
       "      <th>X1 transaction date</th>\n",
       "      <th>X2 house age</th>\n",
       "      <th>X3 distance to the nearest MRT station</th>\n",
       "      <th>X4 number of convenience stores</th>\n",
       "      <th>X5 latitude</th>\n",
       "      <th>X6 longitude</th>\n",
       "      <th>Y house price of unit area</th>\n",
       "    </tr>\n",
       "  </thead>\n",
       "  <tbody>\n",
       "    <tr>\n",
       "      <th>0</th>\n",
       "      <td>2012.917</td>\n",
       "      <td>32.0</td>\n",
       "      <td>84.87882</td>\n",
       "      <td>10</td>\n",
       "      <td>24.98298</td>\n",
       "      <td>121.54024</td>\n",
       "      <td>37.9</td>\n",
       "    </tr>\n",
       "    <tr>\n",
       "      <th>1</th>\n",
       "      <td>2012.917</td>\n",
       "      <td>19.5</td>\n",
       "      <td>306.59470</td>\n",
       "      <td>9</td>\n",
       "      <td>24.98034</td>\n",
       "      <td>121.53951</td>\n",
       "      <td>42.2</td>\n",
       "    </tr>\n",
       "    <tr>\n",
       "      <th>2</th>\n",
       "      <td>2013.583</td>\n",
       "      <td>13.3</td>\n",
       "      <td>561.98450</td>\n",
       "      <td>5</td>\n",
       "      <td>24.98746</td>\n",
       "      <td>121.54391</td>\n",
       "      <td>47.3</td>\n",
       "    </tr>\n",
       "    <tr>\n",
       "      <th>3</th>\n",
       "      <td>2013.500</td>\n",
       "      <td>13.3</td>\n",
       "      <td>561.98450</td>\n",
       "      <td>5</td>\n",
       "      <td>24.98746</td>\n",
       "      <td>121.54391</td>\n",
       "      <td>54.8</td>\n",
       "    </tr>\n",
       "    <tr>\n",
       "      <th>4</th>\n",
       "      <td>2012.833</td>\n",
       "      <td>5.0</td>\n",
       "      <td>390.56840</td>\n",
       "      <td>5</td>\n",
       "      <td>24.97937</td>\n",
       "      <td>121.54245</td>\n",
       "      <td>43.1</td>\n",
       "    </tr>\n",
       "    <tr>\n",
       "      <th>...</th>\n",
       "      <td>...</td>\n",
       "      <td>...</td>\n",
       "      <td>...</td>\n",
       "      <td>...</td>\n",
       "      <td>...</td>\n",
       "      <td>...</td>\n",
       "      <td>...</td>\n",
       "    </tr>\n",
       "    <tr>\n",
       "      <th>409</th>\n",
       "      <td>2013.000</td>\n",
       "      <td>13.7</td>\n",
       "      <td>4082.01500</td>\n",
       "      <td>0</td>\n",
       "      <td>24.94155</td>\n",
       "      <td>121.50381</td>\n",
       "      <td>15.4</td>\n",
       "    </tr>\n",
       "    <tr>\n",
       "      <th>410</th>\n",
       "      <td>2012.667</td>\n",
       "      <td>5.6</td>\n",
       "      <td>90.45606</td>\n",
       "      <td>9</td>\n",
       "      <td>24.97433</td>\n",
       "      <td>121.54310</td>\n",
       "      <td>50.0</td>\n",
       "    </tr>\n",
       "    <tr>\n",
       "      <th>411</th>\n",
       "      <td>2013.250</td>\n",
       "      <td>18.8</td>\n",
       "      <td>390.96960</td>\n",
       "      <td>7</td>\n",
       "      <td>24.97923</td>\n",
       "      <td>121.53986</td>\n",
       "      <td>40.6</td>\n",
       "    </tr>\n",
       "    <tr>\n",
       "      <th>412</th>\n",
       "      <td>2013.000</td>\n",
       "      <td>8.1</td>\n",
       "      <td>104.81010</td>\n",
       "      <td>5</td>\n",
       "      <td>24.96674</td>\n",
       "      <td>121.54067</td>\n",
       "      <td>52.5</td>\n",
       "    </tr>\n",
       "    <tr>\n",
       "      <th>413</th>\n",
       "      <td>2013.500</td>\n",
       "      <td>6.5</td>\n",
       "      <td>90.45606</td>\n",
       "      <td>9</td>\n",
       "      <td>24.97433</td>\n",
       "      <td>121.54310</td>\n",
       "      <td>63.9</td>\n",
       "    </tr>\n",
       "  </tbody>\n",
       "</table>\n",
       "<p>414 rows × 7 columns</p>\n",
       "</div>"
      ]
     },
     "execution_count": 46,
     "metadata": {},
     "output_type": "execute_result"
    }
   ],
   "execution_count": 46
  },
  {
   "metadata": {
    "ExecuteTime": {
     "end_time": "2024-09-18T17:00:32.398515Z",
     "start_time": "2024-09-18T17:00:32.388183Z"
    }
   },
   "cell_type": "code",
   "source": "df_combined.describe(include='all')",
   "id": "827ae4daeceafa9b",
   "outputs": [
    {
     "data": {
      "text/plain": [
       "       X1 transaction date  X2 house age  \\\n",
       "count           414.000000    414.000000   \n",
       "mean           2013.148971     17.712560   \n",
       "std               0.281967     11.392485   \n",
       "min            2012.667000      0.000000   \n",
       "25%            2012.917000      9.025000   \n",
       "50%            2013.167000     16.100000   \n",
       "75%            2013.417000     28.150000   \n",
       "max            2013.583000     43.800000   \n",
       "\n",
       "       X3 distance to the nearest MRT station  \\\n",
       "count                              414.000000   \n",
       "mean                              1083.885689   \n",
       "std                               1262.109595   \n",
       "min                                 23.382840   \n",
       "25%                                289.324800   \n",
       "50%                                492.231300   \n",
       "75%                               1454.279000   \n",
       "max                               6488.021000   \n",
       "\n",
       "       X4 number of convenience stores  X5 latitude  X6 longitude  \\\n",
       "count                       414.000000   414.000000    414.000000   \n",
       "mean                          4.094203    24.969030    121.533361   \n",
       "std                           2.945562     0.012410      0.015347   \n",
       "min                           0.000000    24.932070    121.473530   \n",
       "25%                           1.000000    24.963000    121.528085   \n",
       "50%                           4.000000    24.971100    121.538630   \n",
       "75%                           6.000000    24.977455    121.543305   \n",
       "max                          10.000000    25.014590    121.566270   \n",
       "\n",
       "       Y house price of unit area  \n",
       "count                  414.000000  \n",
       "mean                    37.980193  \n",
       "std                     13.606488  \n",
       "min                      7.600000  \n",
       "25%                     27.700000  \n",
       "50%                     38.450000  \n",
       "75%                     46.600000  \n",
       "max                    117.500000  "
      ],
      "text/html": [
       "<div>\n",
       "<style scoped>\n",
       "    .dataframe tbody tr th:only-of-type {\n",
       "        vertical-align: middle;\n",
       "    }\n",
       "\n",
       "    .dataframe tbody tr th {\n",
       "        vertical-align: top;\n",
       "    }\n",
       "\n",
       "    .dataframe thead th {\n",
       "        text-align: right;\n",
       "    }\n",
       "</style>\n",
       "<table border=\"1\" class=\"dataframe\">\n",
       "  <thead>\n",
       "    <tr style=\"text-align: right;\">\n",
       "      <th></th>\n",
       "      <th>X1 transaction date</th>\n",
       "      <th>X2 house age</th>\n",
       "      <th>X3 distance to the nearest MRT station</th>\n",
       "      <th>X4 number of convenience stores</th>\n",
       "      <th>X5 latitude</th>\n",
       "      <th>X6 longitude</th>\n",
       "      <th>Y house price of unit area</th>\n",
       "    </tr>\n",
       "  </thead>\n",
       "  <tbody>\n",
       "    <tr>\n",
       "      <th>count</th>\n",
       "      <td>414.000000</td>\n",
       "      <td>414.000000</td>\n",
       "      <td>414.000000</td>\n",
       "      <td>414.000000</td>\n",
       "      <td>414.000000</td>\n",
       "      <td>414.000000</td>\n",
       "      <td>414.000000</td>\n",
       "    </tr>\n",
       "    <tr>\n",
       "      <th>mean</th>\n",
       "      <td>2013.148971</td>\n",
       "      <td>17.712560</td>\n",
       "      <td>1083.885689</td>\n",
       "      <td>4.094203</td>\n",
       "      <td>24.969030</td>\n",
       "      <td>121.533361</td>\n",
       "      <td>37.980193</td>\n",
       "    </tr>\n",
       "    <tr>\n",
       "      <th>std</th>\n",
       "      <td>0.281967</td>\n",
       "      <td>11.392485</td>\n",
       "      <td>1262.109595</td>\n",
       "      <td>2.945562</td>\n",
       "      <td>0.012410</td>\n",
       "      <td>0.015347</td>\n",
       "      <td>13.606488</td>\n",
       "    </tr>\n",
       "    <tr>\n",
       "      <th>min</th>\n",
       "      <td>2012.667000</td>\n",
       "      <td>0.000000</td>\n",
       "      <td>23.382840</td>\n",
       "      <td>0.000000</td>\n",
       "      <td>24.932070</td>\n",
       "      <td>121.473530</td>\n",
       "      <td>7.600000</td>\n",
       "    </tr>\n",
       "    <tr>\n",
       "      <th>25%</th>\n",
       "      <td>2012.917000</td>\n",
       "      <td>9.025000</td>\n",
       "      <td>289.324800</td>\n",
       "      <td>1.000000</td>\n",
       "      <td>24.963000</td>\n",
       "      <td>121.528085</td>\n",
       "      <td>27.700000</td>\n",
       "    </tr>\n",
       "    <tr>\n",
       "      <th>50%</th>\n",
       "      <td>2013.167000</td>\n",
       "      <td>16.100000</td>\n",
       "      <td>492.231300</td>\n",
       "      <td>4.000000</td>\n",
       "      <td>24.971100</td>\n",
       "      <td>121.538630</td>\n",
       "      <td>38.450000</td>\n",
       "    </tr>\n",
       "    <tr>\n",
       "      <th>75%</th>\n",
       "      <td>2013.417000</td>\n",
       "      <td>28.150000</td>\n",
       "      <td>1454.279000</td>\n",
       "      <td>6.000000</td>\n",
       "      <td>24.977455</td>\n",
       "      <td>121.543305</td>\n",
       "      <td>46.600000</td>\n",
       "    </tr>\n",
       "    <tr>\n",
       "      <th>max</th>\n",
       "      <td>2013.583000</td>\n",
       "      <td>43.800000</td>\n",
       "      <td>6488.021000</td>\n",
       "      <td>10.000000</td>\n",
       "      <td>25.014590</td>\n",
       "      <td>121.566270</td>\n",
       "      <td>117.500000</td>\n",
       "    </tr>\n",
       "  </tbody>\n",
       "</table>\n",
       "</div>"
      ]
     },
     "execution_count": 47,
     "metadata": {},
     "output_type": "execute_result"
    }
   ],
   "execution_count": 47
  },
  {
   "metadata": {
    "ExecuteTime": {
     "end_time": "2024-09-18T17:00:32.446144Z",
     "start_time": "2024-09-18T17:00:32.441409Z"
    }
   },
   "cell_type": "code",
   "source": "df_combined.info()",
   "id": "556f56a3be433d8e",
   "outputs": [
    {
     "name": "stdout",
     "output_type": "stream",
     "text": [
      "<class 'pandas.core.frame.DataFrame'>\n",
      "RangeIndex: 414 entries, 0 to 413\n",
      "Data columns (total 7 columns):\n",
      " #   Column                                  Non-Null Count  Dtype  \n",
      "---  ------                                  --------------  -----  \n",
      " 0   X1 transaction date                     414 non-null    float64\n",
      " 1   X2 house age                            414 non-null    float64\n",
      " 2   X3 distance to the nearest MRT station  414 non-null    float64\n",
      " 3   X4 number of convenience stores         414 non-null    int64  \n",
      " 4   X5 latitude                             414 non-null    float64\n",
      " 5   X6 longitude                            414 non-null    float64\n",
      " 6   Y house price of unit area              414 non-null    float64\n",
      "dtypes: float64(6), int64(1)\n",
      "memory usage: 22.8 KB\n"
     ]
    }
   ],
   "execution_count": 48
  },
  {
   "metadata": {},
   "cell_type": "markdown",
   "source": [
    "The dataset contains 414 records and 8 columns.There are no data with missing values.  \n",
    "Structure of the data:\n",
    "\n",
    "- `No`: Record number.\n",
    "- `X1 transaction date`: Transaction date (in year and fraction of a month format).\n",
    "- `2 house age: Age of the house in years`.\n",
    "- `X3 distance to the nearest MRT station`: Distance to the nearest MRT station (in meters).\n",
    "- `X4 number of convenience stores`: Number of stores in the neighborhood.\n",
    "- `X5 latitude`: Latitude of the property location.\n",
    "- `X6 longitude`: Longitude of the property location.\n",
    "- `Y house price of unit area` : The price of the property per unit area (target variable)."
   ],
   "id": "9ab45cf7db43e535"
  },
  {
   "metadata": {},
   "cell_type": "markdown",
   "source": "## 4.3 Data preparation",
   "id": "278aa978cd8c6647"
  },
  {
   "metadata": {},
   "cell_type": "markdown",
   "source": "First, let's see what the data set looks like",
   "id": "8533b143b975543"
  },
  {
   "metadata": {
    "ExecuteTime": {
     "end_time": "2024-09-18T17:00:33.173744Z",
     "start_time": "2024-09-18T17:00:32.618130Z"
    }
   },
   "cell_type": "code",
   "source": "df_combined.hist(bins=50, figsize=[15,12]);",
   "id": "9929e82c1514c101",
   "outputs": [
    {
     "data": {
      "text/plain": [
       "<Figure size 1500x1200 with 9 Axes>"
      ],
      "image/png": "[encoded data removed]"
     },
     "metadata": {},
     "output_type": "display_data"
    }
   ],
   "execution_count": 49
  },
  {
   "metadata": {},
   "cell_type": "markdown",
   "source": "Проверим данные на наличие корреляции",
   "id": "84227ccdc602ee69"
  },
  {
   "metadata": {
    "ExecuteTime": {
     "end_time": "2024-09-18T17:00:33.197439Z",
     "start_time": "2024-09-18T17:00:33.189360Z"
    }
   },
   "cell_type": "code",
   "source": [
    "from statsmodels.stats.outliers_influence import variance_inflation_factor\n",
    "\n",
    "# Рассчитываем VIF для каждого признака\n",
    "vif_data = pd.DataFrame()\n",
    "vif_data[\"Feature\"] = X.columns\n",
    "vif_data[\"VIF\"] = [variance_inflation_factor(X.values, i) for i in range(len(X.columns))]\n",
    "\n",
    "print(vif_data)\n"
   ],
   "id": "300b5cfd6bbc1494",
   "outputs": [
    {
     "name": "stdout",
     "output_type": "stream",
     "text": [
      "                                  Feature           VIF\n",
      "0                     X1 transaction date  4.253389e+07\n",
      "1                            X2 house age  3.471392e+00\n",
      "2  X3 distance to the nearest MRT station  4.261358e+00\n",
      "3         X4 number of convenience stores  4.748152e+00\n",
      "4                             X5 latitude  6.178301e+06\n",
      "5                            X6 longitude  4.198817e+07\n"
     ]
    }
   ],
   "execution_count": 50
  },
  {
   "metadata": {},
   "cell_type": "markdown",
   "source": "One of the features has a high multi-collinearity coefficient. Since this is an educational project, we will not remove it, but in real life, multi-collinearity coefficients should be taken into account and their impact on the model should be assessed.",
   "id": "1e584fab11a4681"
  },
  {
   "metadata": {},
   "cell_type": "markdown",
   "source": "Linear regression is sensitive to the scale of features, especially if the ranges of values differ significantly. For example, the distance to the metro station (in meters) and the number of stores have different scales. It is recommended to normalize or standardize the features to improve the model's convergence. In this case, we will use standardization, as it is less sensitive to outliers.",
   "id": "6217ccd72859cce8"
  },
  {
   "metadata": {},
   "cell_type": "markdown",
   "source": "But before we can standardize the data, we need to first split the data into training and validation sets. And before that, we should set aside a test portion for the final assessment of the model's performance.",
   "id": "396b1f44d23fac0c"
  },
  {
   "metadata": {
    "ExecuteTime": {
     "end_time": "2024-09-18T17:00:33.242855Z",
     "start_time": "2024-09-18T17:00:33.238048Z"
    }
   },
   "cell_type": "code",
   "source": [
    "from sklearn.model_selection import train_test_split\n",
    "# Dataset separation\n",
    "# 80% of the data will be used for training and 20% for testing\n",
    "work_data, test_data, work_targets, test_targets = train_test_split(df_x, df_y, test_size=0.2)\n",
    "\n",
    "# Then we will divide the work data into training and validation data\n",
    "train_data, val_data, train_targets, val_targets = train_test_split(work_data, work_targets, test_size=0.2)"
   ],
   "id": "8fad987b1593a8ef",
   "outputs": [],
   "execution_count": 51
  },
  {
   "metadata": {},
   "cell_type": "markdown",
   "source": "Next, we will standardize the obtained datasets.",
   "id": "158dd3d2ce482d91"
  },
  {
   "metadata": {
    "ExecuteTime": {
     "end_time": "2024-09-18T17:00:33.319561Z",
     "start_time": "2024-09-18T17:00:33.312859Z"
    }
   },
   "cell_type": "code",
   "source": [
    "from sklearn.preprocessing import StandardScaler\n",
    "# Standardization of data\n",
    "scaler = StandardScaler()\n",
    "train_data = scaler.fit_transform(train_data)\n",
    "val_data = scaler.fit_transform(val_data)\n",
    "test_data = scaler.fit_transform(test_data)\n",
    "work_data = scaler.fit_transform(work_data)"
   ],
   "id": "d809359e9cbadd3e",
   "outputs": [],
   "execution_count": 52
  },
  {
   "metadata": {},
   "cell_type": "markdown",
   "source": "Since we will also be building a logistic regression model, we will convert the target variable to a binary format. If the price of the property is above the median price, the target variable will be 1, otherwise 0. This means that the model will predict whether the price is above or below the median.",
   "id": "d6df8ff830da5b19"
  },
  {
   "metadata": {
    "ExecuteTime": {
     "end_time": "2024-09-18T17:00:33.326769Z",
     "start_time": "2024-09-18T17:00:33.322724Z"
    }
   },
   "cell_type": "code",
   "source": [
    "median_price = train_targets.median()\n",
    "train_targets_binary = (train_targets > median_price).astype(int)\n",
    "val_targets_binary = (val_targets > median_price).astype(int)\n",
    "test_targets_binary = (test_targets > median_price).astype(int)\n",
    "work_targets_binary = (work_targets > median_price).astype(int)"
   ],
   "id": "7c046032b8a635e",
   "outputs": [],
   "execution_count": 53
  },
  {
   "metadata": {},
   "cell_type": "markdown",
   "source": "Let's take a look at the data after the transformations.",
   "id": "88347b552dc10f13"
  },
  {
   "metadata": {
    "ExecuteTime": {
     "end_time": "2024-09-18T17:00:33.390588Z",
     "start_time": "2024-09-18T17:00:33.386799Z"
    }
   },
   "cell_type": "code",
   "source": "train_targets_binary",
   "id": "9d240f96c0eca481",
   "outputs": [
    {
     "data": {
      "text/plain": [
       "     Y house price of unit area\n",
       "410                           1\n",
       "133                           1\n",
       "346                           0\n",
       "317                           0\n",
       "286                           1\n",
       "..                          ...\n",
       "159                           0\n",
       "325                           0\n",
       "107                           0\n",
       "59                            1\n",
       "184                           0\n",
       "\n",
       "[264 rows x 1 columns]"
      ],
      "text/html": [
       "<div>\n",
       "<style scoped>\n",
       "    .dataframe tbody tr th:only-of-type {\n",
       "        vertical-align: middle;\n",
       "    }\n",
       "\n",
       "    .dataframe tbody tr th {\n",
       "        vertical-align: top;\n",
       "    }\n",
       "\n",
       "    .dataframe thead th {\n",
       "        text-align: right;\n",
       "    }\n",
       "</style>\n",
       "<table border=\"1\" class=\"dataframe\">\n",
       "  <thead>\n",
       "    <tr style=\"text-align: right;\">\n",
       "      <th></th>\n",
       "      <th>Y house price of unit area</th>\n",
       "    </tr>\n",
       "  </thead>\n",
       "  <tbody>\n",
       "    <tr>\n",
       "      <th>410</th>\n",
       "      <td>1</td>\n",
       "    </tr>\n",
       "    <tr>\n",
       "      <th>133</th>\n",
       "      <td>1</td>\n",
       "    </tr>\n",
       "    <tr>\n",
       "      <th>346</th>\n",
       "      <td>0</td>\n",
       "    </tr>\n",
       "    <tr>\n",
       "      <th>317</th>\n",
       "      <td>0</td>\n",
       "    </tr>\n",
       "    <tr>\n",
       "      <th>286</th>\n",
       "      <td>1</td>\n",
       "    </tr>\n",
       "    <tr>\n",
       "      <th>...</th>\n",
       "      <td>...</td>\n",
       "    </tr>\n",
       "    <tr>\n",
       "      <th>159</th>\n",
       "      <td>0</td>\n",
       "    </tr>\n",
       "    <tr>\n",
       "      <th>325</th>\n",
       "      <td>0</td>\n",
       "    </tr>\n",
       "    <tr>\n",
       "      <th>107</th>\n",
       "      <td>0</td>\n",
       "    </tr>\n",
       "    <tr>\n",
       "      <th>59</th>\n",
       "      <td>1</td>\n",
       "    </tr>\n",
       "    <tr>\n",
       "      <th>184</th>\n",
       "      <td>0</td>\n",
       "    </tr>\n",
       "  </tbody>\n",
       "</table>\n",
       "<p>264 rows × 1 columns</p>\n",
       "</div>"
      ]
     },
     "execution_count": 54,
     "metadata": {},
     "output_type": "execute_result"
    }
   ],
   "execution_count": 54
  },
  {
   "metadata": {},
   "cell_type": "markdown",
   "source": "## 4.4 Modeling",
   "id": "c74e4b731973479"
  },
  {
   "metadata": {},
   "cell_type": "markdown",
   "source": "### 4.4.1 Linear regression",
   "id": "1b96dcc6c663e1d5"
  },
  {
   "metadata": {},
   "cell_type": "markdown",
   "source": "Let's create a linear regression model and train it on the training data.",
   "id": "58c29eece73ca8a5"
  },
  {
   "metadata": {
    "ExecuteTime": {
     "end_time": "2024-09-18T17:00:33.431959Z",
     "start_time": "2024-09-18T17:00:33.427487Z"
    }
   },
   "cell_type": "code",
   "source": [
    "from sklearn.metrics import confusion_matrix\n",
    "import matplotlib.pyplot as plt\n",
    "from sklearn.metrics import classification_report\n",
    "from sklearn.linear_model import LinearRegression\n",
    "# Create a model\n",
    "model_linear = LinearRegression(fit_intercept = True)\n",
    "model_linear.fit(train_data, train_targets)\n",
    "\n",
    "# Predictions\n",
    "predictions = model_linear.predict(val_data)"
   ],
   "id": "d2af9014ebd1e902",
   "outputs": [],
   "execution_count": 55
  },
  {
   "metadata": {
    "ExecuteTime": {
     "end_time": "2024-09-18T17:00:33.509218Z",
     "start_time": "2024-09-18T17:00:33.504941Z"
    }
   },
   "cell_type": "code",
   "source": [
    "from sklearn.metrics import mean_squared_error, mean_absolute_error, r2_score\n",
    "# Calculate the error metrics\n",
    "mse = mean_squared_error(val_targets, predictions)\n",
    "mae = mean_absolute_error(val_targets, predictions)\n",
    "R2 = r2_score(val_targets, predictions)"
   ],
   "id": "a035cfec97753bd8",
   "outputs": [],
   "execution_count": 56
  },
  {
   "metadata": {
    "ExecuteTime": {
     "end_time": "2024-09-18T17:01:09.869115Z",
     "start_time": "2024-09-18T17:01:09.864417Z"
    }
   },
   "cell_type": "code",
   "source": [
    "# Feature importance\n",
    "print(\"b =\", model_linear.intercept_[0])\n",
    "\n",
    "coefficients = pd.DataFrame({\n",
    "    'Feature': X.columns, \n",
    "    'Coefficient': model_linear.coef_[0]\n",
    "})\n",
    "coefficients.index = pd.RangeIndex(start=1, stop=len(coefficients) + 1, step=1)\n",
    "\n",
    "print(coefficients)\n",
    "print(\"R^2 =\", R2)\n",
    "print(\"MSE =\", mse)\n",
    "print(\"MAE =\", mae)"
   ],
   "id": "915dfbc7fb5c275c",
   "outputs": [
    {
     "name": "stdout",
     "output_type": "stream",
     "text": [
      "b = 37.9761363636362\n",
      "                                  Feature  Coefficient\n",
      "1                     X1 transaction date     0.655949\n",
      "2                            X2 house age    -3.428287\n",
      "3  X3 distance to the nearest MRT station    -5.131344\n",
      "4         X4 number of convenience stores     3.863446\n",
      "5                             X5 latitude     2.259958\n",
      "6                            X6 longitude     0.012417\n",
      "R^2 = 0.3973719491629081\n",
      "MSE = 176.08473404663062\n",
      "MAE = 7.865784865018274\n"
     ]
    }
   ],
   "execution_count": 69
  },
  {
   "metadata": {},
   "cell_type": "markdown",
   "source": "### 4.4.2 Logistic regression",
   "id": "9862cffe25b0a521"
  },
  {
   "metadata": {
    "ExecuteTime": {
     "end_time": "2024-09-18T17:01:28.057416Z",
     "start_time": "2024-09-18T17:01:28.052008Z"
    }
   },
   "cell_type": "code",
   "source": [
    "from sklearn.linear_model import LogisticRegression\n",
    "from sklearn.utils import column_or_1d\n",
    "\n",
    "# Transform the target variable to 1d array\n",
    "work_targets_binary = column_or_1d(work_targets_binary, warn=True)\n",
    "\n",
    "# Create a model\n",
    "model_reg = LogisticRegression(solver='lbfgs').fit(work_data, work_targets_binary)\n",
    "\n",
    "print(\"Coefficients: \",model_reg.coef_)\n",
    "print(\"Intercept: \", model_reg.intercept_)"
   ],
   "id": "900679d45b13c0bd",
   "outputs": [
    {
     "name": "stdout",
     "output_type": "stream",
     "text": [
      "Coefficients:  [[ 0.15566902 -0.83815816 -2.63900778  0.61964166  0.73411434  0.08357706]]\n",
      "Intercept:  [-1.02187904]\n"
     ]
    }
   ],
   "execution_count": 70
  },
  {
   "metadata": {
    "ExecuteTime": {
     "end_time": "2024-09-18T17:00:33.794689Z",
     "start_time": "2024-09-18T17:00:33.706547Z"
    }
   },
   "cell_type": "code",
   "source": [
    "# cross-validation\n",
    "from sklearn.model_selection import cross_val_predict\n",
    "\n",
    "y_pred = cross_val_predict(estimator=model_reg, X=work_data, y=work_targets_binary, cv=10)\n",
    "\n",
    "# confusion matrix\n",
    "cm = confusion_matrix(work_targets_binary, y_pred)\n",
    "\n",
    "# visualize confusion matrix\n",
    "plt.matshow(cm)\n",
    "plt.title('Confusion matrix')\n",
    "plt.colorbar()\n",
    "plt.ylabel('True label')\n",
    "plt.xlabel('Predicted label')\n",
    "# include counts\n",
    "for i in range(2):\n",
    "    for j in range(2):\n",
    "        plt.text(j, i, cm[i, j], ha='center', va='center', color='red')\n",
    "plt.show()"
   ],
   "id": "62747cc973e17dcb",
   "outputs": [
    {
     "data": {
      "text/plain": [
       "<Figure size 480x480 with 2 Axes>"
      ],
      "image/png": "[encoded data removed]"
     },
     "metadata": {},
     "output_type": "display_data"
    }
   ],
   "execution_count": 59
  },
  {
   "metadata": {
    "ExecuteTime": {
     "end_time": "2024-09-18T17:00:33.825692Z",
     "start_time": "2024-09-18T17:00:33.819663Z"
    }
   },
   "cell_type": "code",
   "source": "print(classification_report(work_targets_binary, y_pred))",
   "id": "372ef4936f9bccc7",
   "outputs": [
    {
     "name": "stdout",
     "output_type": "stream",
     "text": [
      "              precision    recall  f1-score   support\n",
      "\n",
      "           0       0.87      0.79      0.83       174\n",
      "           1       0.79      0.87      0.83       157\n",
      "\n",
      "    accuracy                           0.83       331\n",
      "   macro avg       0.83      0.83      0.83       331\n",
      "weighted avg       0.83      0.83      0.83       331\n",
      "\n"
     ]
    }
   ],
   "execution_count": 60
  },
  {
   "metadata": {},
   "cell_type": "markdown",
   "source": "The model seems to predict the outcome quite well, with an accuracy of 0.83. Contransting this to the performance of a random classifier, which would have an accuracy of 0.5, the model seems to be doing a decent job.",
   "id": "2bc747b1febd2614"
  },
  {
   "metadata": {},
   "cell_type": "markdown",
   "source": "## 4.5 Evaluation",
   "id": "c5147831bcd7a052"
  },
  {
   "metadata": {},
   "cell_type": "markdown",
   "source": "### 4.5.1 Linear regression",
   "id": "e94f0e9b3f1950ef"
  },
  {
   "metadata": {},
   "cell_type": "markdown",
   "source": "Let's evaluate the accuracy of the linear regression model on the test dataset:",
   "id": "de4cac8f103f3d2e"
  },
  {
   "metadata": {
    "ExecuteTime": {
     "end_time": "2024-09-18T17:00:33.872669Z",
     "start_time": "2024-09-18T17:00:33.869610Z"
    }
   },
   "cell_type": "code",
   "source": [
    "# model_linear.fit(work_data, work_targets) ???\n",
    "predictions = model_linear.predict(test_data)"
   ],
   "id": "89bcb612475f8635",
   "outputs": [],
   "execution_count": 61
  },
  {
   "metadata": {
    "ExecuteTime": {
     "end_time": "2024-09-18T17:00:33.917687Z",
     "start_time": "2024-09-18T17:00:33.912919Z"
    }
   },
   "cell_type": "code",
   "source": [
    "# Calculate the error metrics\n",
    "mse = mean_squared_error(test_targets, predictions)\n",
    "mae = mean_absolute_error(test_targets, predictions)\n",
    "R2 = r2_score(test_targets, predictions)"
   ],
   "id": "374e4401f812001e",
   "outputs": [],
   "execution_count": 62
  },
  {
   "metadata": {},
   "cell_type": "markdown",
   "source": "Let's take a look at the coefficients and feature importance.",
   "id": "1bf9419cfdedb1ec"
  },
  {
   "metadata": {
    "ExecuteTime": {
     "end_time": "2024-09-18T17:00:34.113165Z",
     "start_time": "2024-09-18T17:00:34.107863Z"
    }
   },
   "cell_type": "code",
   "source": [
    "# Feature importance\n",
    "print(\"b =\", model_linear.intercept_[0])\n",
    "\n",
    "coefficients = pd.DataFrame({\n",
    "    'Feature': X.columns, \n",
    "    'Coefficient': model_linear.coef_[0]\n",
    "})\n",
    "coefficients.index = pd.RangeIndex(start=1, stop=len(coefficients) + 1, step=1)\n",
    "\n",
    "print(coefficients)\n",
    "print(\"R^2 =\", R2)\n",
    "print(\"MSE =\", mse)\n",
    "print(\"MAE =\", mae)"
   ],
   "id": "f7dd3883e92491dd",
   "outputs": [
    {
     "name": "stdout",
     "output_type": "stream",
     "text": [
      "b = 37.9761363636362\n",
      "                                  Feature  Coefficient\n",
      "1                     X1 transaction date     0.655949\n",
      "2                            X2 house age    -3.428287\n",
      "3  X3 distance to the nearest MRT station    -5.131344\n",
      "4         X4 number of convenience stores     3.863446\n",
      "5                             X5 latitude     2.259958\n",
      "6                            X6 longitude     0.012417\n",
      "R^2 = 0.3973719491629081\n",
      "MSE = 176.08473404663062\n",
      "MAE = 7.865784865018274\n"
     ]
    }
   ],
   "execution_count": 63
  },
  {
   "metadata": {},
   "cell_type": "markdown",
   "source": [
    "Let's take a look at the coefficients. The coefficient `W` is a vector of weights for each feature. The coefficient `b` is the bias term.\n",
    "Feature importance can be estimated by the magnitude of the weights. The larger the weight, the more important the feature.\n",
    "- `X4 number of convenience stores` **(3,86)** is the most important feature. It has the largest weight. The more stores in the neighborhood, the higher the price.\n",
    "- `X3 distance to the nearest MRT station` **(-5,13)** is negatively correlated with the target variable. The closer the metro station, the higher the price.\n",
    "- `X2 house age` **(-3,42)** is too negatively correlated with the target variable. The older the house, the lower the price. \n",
    "- `X1 transaction date` **(0,66)** is positively correlated with the target variable. The more recent the transaction, the higher the price. But the weight not so big.\n",
    "- `X5 latitude` **(2,25)** is positively correlated with the target variable. The higher the latitude, the higher the price. It has a pretty big weight.\n",
    "- `X6 longitude` **(0,012)** is positively correlated with the target variable. It has a pretty small weight and is not so important.This may be due to the geographical peculiarities of the studied territory"
   ],
   "id": "32fd7763de70c59d"
  },
  {
   "metadata": {},
   "cell_type": "markdown",
   "source": [
    "Based on the presented test results for the linear regression, we can draw the following conclusions about the model's effectiveness:\n",
    "\n",
    "- R^2 (coefficient of determination) is 0.3974, meaning the model explains approximately 39.74% of the variation in the data. This indicates a weak predictive capability of the model, as more than half of the variation remains unexplained.\n",
    "- MSE (Mean Squared Error) is 176.084, which is quite high. This suggests a significant discrepancy between predicted and actual values.\n",
    "- MAE (Mean Absolute Error) is 7.86, which also indicates a substantial deviation of predictions from real values.\n",
    "\n",
    "Conclusions:\n",
    "\n",
    "1. The effectiveness of this linear regression is low.\n",
    "2. The model doesn't capture the patterns in the data well enough.\n",
    "3. There may be non-linear relationships in the data that the linear model cannot reflect.\n",
    "4. It's necessary to consider alternative modeling methods or improve the current model."
   ],
   "id": "66bce71c62395406"
  },
  {
   "metadata": {},
   "cell_type": "markdown",
   "source": "### 4.5.2 Logistic regression",
   "id": "d33c642ba22a91a7"
  },
  {
   "metadata": {},
   "cell_type": "markdown",
   "source": "Let's evaluate the accuracy of the logistic regression model on the test dataset:",
   "id": "f265232550f74c12"
  },
  {
   "metadata": {
    "ExecuteTime": {
     "end_time": "2024-09-18T17:00:34.245968Z",
     "start_time": "2024-09-18T17:00:34.173025Z"
    }
   },
   "cell_type": "code",
   "source": [
    "# Predicting on test data\n",
    "y_test_pred = model_reg.predict(test_data)\n",
    "\n",
    "# Confusion matrix\n",
    "cm_test = confusion_matrix(test_targets_binary, y_test_pred)\n",
    "\n",
    "# visualize confusion matrix\n",
    "plt.matshow(cm)\n",
    "plt.title('Confusion matrix')\n",
    "plt.colorbar()\n",
    "plt.ylabel('True label')\n",
    "plt.xlabel('Predicted label')\n",
    "# include counts\n",
    "for i in range(2):\n",
    "    for j in range(2):\n",
    "        plt.text(j, i, cm[i, j], ha='center', va='center', color='red')\n",
    "plt.show()"
   ],
   "id": "9b95b496e959c96f",
   "outputs": [
    {
     "data": {
      "text/plain": [
       "<Figure size 480x480 with 2 Axes>"
      ],
      "image/png": "[encoded data removed]"
     },
     "metadata": {},
     "output_type": "display_data"
    }
   ],
   "execution_count": 64
  },
  {
   "metadata": {
    "ExecuteTime": {
     "end_time": "2024-09-18T17:00:34.284794Z",
     "start_time": "2024-09-18T17:00:34.278424Z"
    }
   },
   "cell_type": "code",
   "source": [
    "# Classification report (precision, recall, F1-score)\n",
    "print(classification_report(test_targets_binary, y_test_pred))"
   ],
   "id": "ef7807e55e1b131d",
   "outputs": [
    {
     "name": "stdout",
     "output_type": "stream",
     "text": [
      "              precision    recall  f1-score   support\n",
      "\n",
      "           0       0.79      0.81      0.80        37\n",
      "           1       0.84      0.83      0.84        46\n",
      "\n",
      "    accuracy                           0.82        83\n",
      "   macro avg       0.82      0.82      0.82        83\n",
      "weighted avg       0.82      0.82      0.82        83\n",
      "\n"
     ]
    }
   ],
   "execution_count": 65
  },
  {
   "metadata": {},
   "cell_type": "markdown",
   "source": "The model seems to predict the outcome quite well, with an accuracy of 0.82. Contrasting this to the performance of a random classifier, which would have an accuracy of 0.5, the model seems to be doing a decent job.",
   "id": "ed39d0467daef431"
  },
  {
   "metadata": {
    "ExecuteTime": {
     "end_time": "2024-09-18T17:00:34.347769Z",
     "start_time": "2024-09-18T17:00:34.343484Z"
    }
   },
   "cell_type": "code",
   "source": [
    "from sklearn.metrics import roc_curve, auc\n",
    "\n",
    "y_prob = model_reg.predict_proba(test_data)[:, 1]\n",
    "fpr, tpr, thresholds = roc_curve(test_targets_binary, y_prob)\n",
    "roc_auc = auc(fpr, tpr)"
   ],
   "id": "61234119624e71b5",
   "outputs": [],
   "execution_count": 66
  },
  {
   "metadata": {
    "ExecuteTime": {
     "end_time": "2024-09-18T17:00:34.455577Z",
     "start_time": "2024-09-18T17:00:34.396842Z"
    }
   },
   "cell_type": "code",
   "source": [
    "plt.plot(fpr, tpr, color='darkorange', lw=2, label='ROC curve (area = %0.2f)' % roc_auc)\n",
    "plt.plot([0, 1], [0, 1], color='navy', lw=2, linestyle='--')\n",
    "plt.xlim([0.0, 1.0])\n",
    "plt.ylim([0.0, 1.05])\n",
    "plt.xlabel('False Positive Rate')\n",
    "plt.ylabel('True Positive Rate')\n",
    "plt.title('ROC curve for decision tree model')\n",
    "plt.legend(loc=\"lower right\")\n",
    "plt.show()"
   ],
   "id": "21ec818f0b6bbe94",
   "outputs": [
    {
     "data": {
      "text/plain": [
       "<Figure size 640x480 with 1 Axes>"
      ],
      "image/png": "[encoded data removed]"
     },
     "metadata": {},
     "output_type": "display_data"
    }
   ],
   "execution_count": 67
  },
  {
   "metadata": {},
   "cell_type": "markdown",
   "source": [
    "The ROC curve shows that the model performs well in distinguishing between the two classes. The area under the ROC curve is 0.92, which is close to the maximum value of 1. This indicates that the model has a good predictive capability.  \n",
    "A stepped curve indicates that the model is working with a relatively small set of discrete data. This may mean that your data set has a limited number of unique predicted probabilities or a small number of samples. Each 'step' represents a change in the ratio of true positives to false positives at a given threshold. Steps indicate that there are a limited number of effective thresholds."
   ],
   "id": "5d7185da7dda1e8f"
  },
  {
   "metadata": {},
   "cell_type": "markdown",
   "source": "Let's look at permutation importance to estimate the importance of each feature:",
   "id": "c4ab14465ebb0a1f"
  },
  {
   "metadata": {
    "ExecuteTime": {
     "end_time": "2024-09-18T17:00:36.084654Z",
     "start_time": "2024-09-18T17:00:34.492309Z"
    }
   },
   "cell_type": "code",
   "source": [
    "# feature importance\n",
    "from sklearn.inspection import permutation_importance\n",
    "\n",
    "result = permutation_importance(model_reg, test_data, test_targets_binary, n_repeats=10, scoring=\"accuracy\", random_state=0, n_jobs=-1)\n",
    "sorted_idx = result.importances_mean.argsort()\n",
    "\n",
    "fig, ax = plt.subplots()\n",
    "ax.boxplot(result.importances[sorted_idx].T, vert=False, tick_labels=X.columns[sorted_idx])\n",
    "ax.set_title(\"Permutation Importance\")\n",
    "fig.tight_layout()\n",
    "plt.show()"
   ],
   "id": "e9be702020af50f6",
   "outputs": [
    {
     "data": {
      "text/plain": [
       "<Figure size 640x480 with 1 Axes>"
      ],
      "image/png": "[encoded data removed]"
     },
     "metadata": {},
     "output_type": "display_data"
    }
   ],
   "execution_count": 68
  },
  {
   "metadata": {},
   "cell_type": "markdown",
   "source": [
    "The most important features for the logistic regression model are:\n",
    "1. `X3 distance to the nearest MRT station` — has the highest importance. This indicates that the distance to the nearest MRT station has the most significant influence on the target variable.\n",
    "\n",
    "2. `X4 number of convenience stores` — is also important but slightly less so compared to X3. This suggests that the number of convenience stores in the area affects the target variable but not as strongly as the distance to the MRT station.\n",
    "\n",
    "3. `X1 transaction date` — has very little importance. This means that the transaction date has minimal impact on the target variable.\n",
    "\n",
    "4. `X6 longitude and X5 latitude` — the coordinates of longitude and latitude have moderate importance, which makes sense since the location of a property typically affects its value.\n",
    "\n",
    "5. `X2 house age` — the age of the house has the least impact, but there is still some influence.\n",
    "\n",
    "Overall, the most significant features for the model are X3 and X4. The remaining features have less influence, but their contribution should not be completely ignored."
   ],
   "id": "848c660b04879d23"
  },
  {
   "metadata": {},
   "cell_type": "markdown",
   "source": "## 4.6 Conclusion",
   "id": "d1d067cc18f2eb8"
  },
  {
   "metadata": {},
   "cell_type": "markdown",
   "source": [
    "In this assignment, we have built linear and logistic regression models to predict the price of real estate properties. We have evaluated the models' performance on test data and estimated the importance of input features. Here are some key findings:\n",
    "1. Dataset:\n",
    "- One of the features has a high multi-collinearity coefficient, which should be taken into account in further analysis.\n",
    "2. Linear regression:\n",
    "- The linear regression model has a low predictive capability, explaining only 39,74% of the variation in the data.\n",
    "- The model has a high Mean Squared Error (MSE) of 176.084 and Mean Absolute Error (MAE) of 7.86, indicating a significant discrepancy between predicted and actual values.\n",
    "- The most important feature is distance to the nearest MRT station in the neighborhood, followed by the number of convenience stores and house age.\n",
    "- The model does not capture the patterns in the data well enough, suggesting the need for alternative modeling methods or model improvements.\n",
    "3. Logistic regression:\n",
    "- The logistic regression model has an accuracy of 0.82, indicating a good predictive capability.\n",
    "- ROC curve analysis shows that the model performs well in distinguishing between the two classes. The area under the ROC curve is 0.92, which is close to the maximum value of 1.\n",
    "- The most important features is the distance to the nearest MRT station as well as in the linear regression model.\n",
    "- The model is sensitive to changes in the most important features, indicating their significant impact on the model's predictions.\n",
    "- The feature `X3 distance to the nearest MRT station` has  outlier value, which may indicate the instability of their influence on the model."
   ],
   "id": "8e3062fed1c9da7d"
  }
 ],
 "metadata": {
  "kernelspec": {
   "display_name": "Python 3",
   "language": "python",
   "name": "python3"
  },
  "language_info": {
   "codemirror_mode": {
    "name": "ipython",
    "version": 2
   },
   "file_extension": ".py",
   "mimetype": "text/x-python",
   "name": "python",
   "nbconvert_exporter": "python",
   "pygments_lexer": "ipython2",
   "version": "2.7.6"
  }
 },
 "nbformat": 4,
 "nbformat_minor": 5
}

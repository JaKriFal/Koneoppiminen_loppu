{
 "cells": [
  {
   "metadata": {},
   "cell_type": "markdown",
   "source": "# 4. Assignment (Linear and logistic regression)",
   "id": "c31ad4d4d195962"
  },
  {
   "metadata": {},
   "cell_type": "markdown",
   "source": "## 4.1 Objectives",
   "id": "54f7f8a7136b284c"
  },
  {
   "metadata": {},
   "cell_type": "markdown",
   "source": [
    "The objectives of this assignment are:\n",
    "\n",
    "1. To learn to use linear regression for predicting continuously varying target variables\n",
    "2. To learn to use logistic regression for binary classification\n",
    "3. To learn to estimate the relative importance of input features"
   ],
   "id": "3d0b5be2dab44073"
  },
  {
   "metadata": {},
   "cell_type": "markdown",
   "source": "## 4.2 Data understanding",
   "id": "dc5576803ef90f01"
  },
  {
   "metadata": {
    "ExecuteTime": {
     "end_time": "2024-09-14T07:18:41.683194Z",
     "start_time": "2024-09-14T07:18:38.962140Z"
    }
   },
   "cell_type": "code",
   "source": [
    "import pandas as pd\n",
    "from ucimlrepo import fetch_ucirepo \n",
    "  \n",
    "# fetch dataset \n",
    "real_estate_valuation = fetch_ucirepo(id=477) \n",
    "  \n",
    "# data (as pandas dataframes) \n",
    "X = real_estate_valuation.data.features \n",
    "y = real_estate_valuation.data.targets \n",
    "  \n",
    "# metadata \n",
    "print(real_estate_valuation.metadata) \n",
    "  \n",
    "# variable information \n",
    "print(real_estate_valuation.variables) \n",
    "\n",
    "df_x = pd.DataFrame(X)\n",
    "df_y = pd.DataFrame(y)\n",
    "df_combined = pd.concat([df_x, df_y], axis=1)\n"
   ],
   "id": "5b0146b4f489cd7",
   "outputs": [
    {
     "name": "stdout",
     "output_type": "stream",
     "text": [
      "{'uci_id': 477, 'name': 'Real Estate Valuation', 'repository_url': 'https://archive.ics.uci.edu/dataset/477/real+estate+valuation+data+set', 'data_url': 'https://archive.ics.uci.edu/static/public/477/data.csv', 'abstract': 'The real estate valuation is a regression problem. The market historical data set of real estate valuation are collected from Sindian Dist., New Taipei City, Taiwan. ', 'area': 'Business', 'tasks': ['Regression'], 'characteristics': ['Multivariate'], 'num_instances': 414, 'num_features': 6, 'feature_types': ['Integer', 'Real'], 'demographics': [], 'target_col': ['Y house price of unit area'], 'index_col': ['No'], 'has_missing_values': 'no', 'missing_values_symbol': None, 'year_of_dataset_creation': 2018, 'last_updated': 'Mon Feb 26 2024', 'dataset_doi': '10.24432/C5J30W', 'creators': ['I-Cheng Yeh'], 'intro_paper': {'title': 'Building real estate valuation models with comparative approach through case-based reasoning', 'authors': 'I. Yeh, Tzu-Kuang Hsu', 'published_in': 'Applied Soft Computing', 'year': 2018, 'url': 'https://dl.acm.org/doi/abs/10.1016/j.asoc.2018.01.029', 'doi': None}, 'additional_info': {'summary': 'The market historical data set of real estate valuation are collected from Sindian Dist., New Taipei City, Taiwan. The â€œreal estate valuationâ€\\x9d is a regression problem. The data set was randomly split into the training data set (2/3 samples) and the testing data set (1/3 samples).', 'purpose': None, 'funded_by': None, 'instances_represent': None, 'recommended_data_splits': None, 'sensitive_data': None, 'preprocessing_description': None, 'variable_info': 'The inputs are as follows\\r\\nX1=the transaction date (for example, 2013.250=2013 March, 2013.500=2013 June, etc.)\\r\\nX2=the house age (unit: year)\\r\\nX3=the distance to the nearest MRT station (unit: meter)\\r\\nX4=the number of convenience stores in the living circle on foot (integer)\\r\\nX5=the geographic coordinate, latitude. (unit: degree)\\r\\nX6=the geographic coordinate, longitude. (unit: degree)\\r\\n\\r\\nThe output is as follow\\r\\nY= house price of unit area (10000 New Taiwan Dollar/Ping, where Ping is a local unit, 1 Ping = 3.3 meter squared)\\r\\n', 'citation': None}}\n",
      "                                     name     role        type demographic  \\\n",
      "0                                      No       ID     Integer        None   \n",
      "1                     X1 transaction date  Feature  Continuous        None   \n",
      "2                            X2 house age  Feature  Continuous        None   \n",
      "3  X3 distance to the nearest MRT station  Feature  Continuous        None   \n",
      "4         X4 number of convenience stores  Feature     Integer        None   \n",
      "5                             X5 latitude  Feature  Continuous        None   \n",
      "6                            X6 longitude  Feature  Continuous        None   \n",
      "7              Y house price of unit area   Target  Continuous        None   \n",
      "\n",
      "                                         description  \\\n",
      "0                                               None   \n",
      "1  for example, 2013.250=2013 March, 2013.500=201...   \n",
      "2                                               None   \n",
      "3                                               None   \n",
      "4  number of convenience stores in the living cir...   \n",
      "5                    geographic coordinate, latitude   \n",
      "6                   geographic coordinate, longitude   \n",
      "7  10000 New Taiwan Dollar/Ping, where Ping is a ...   \n",
      "\n",
      "                          units missing_values  \n",
      "0                          None             no  \n",
      "1                          None             no  \n",
      "2                          year             no  \n",
      "3                         meter             no  \n",
      "4                       integer             no  \n",
      "5                        degree             no  \n",
      "6                        degree             no  \n",
      "7  10000 New Taiwan Dollar/Ping             no  \n"
     ]
    }
   ],
   "execution_count": 2
  },
  {
   "metadata": {
    "ExecuteTime": {
     "end_time": "2024-09-14T07:18:41.713205Z",
     "start_time": "2024-09-14T07:18:41.703530Z"
    }
   },
   "cell_type": "code",
   "source": "df_combined",
   "id": "ec39a42399260778",
   "outputs": [
    {
     "data": {
      "text/plain": [
       "     X1 transaction date  X2 house age  \\\n",
       "0               2012.917          32.0   \n",
       "1               2012.917          19.5   \n",
       "2               2013.583          13.3   \n",
       "3               2013.500          13.3   \n",
       "4               2012.833           5.0   \n",
       "..                   ...           ...   \n",
       "409             2013.000          13.7   \n",
       "410             2012.667           5.6   \n",
       "411             2013.250          18.8   \n",
       "412             2013.000           8.1   \n",
       "413             2013.500           6.5   \n",
       "\n",
       "     X3 distance to the nearest MRT station  X4 number of convenience stores  \\\n",
       "0                                  84.87882                               10   \n",
       "1                                 306.59470                                9   \n",
       "2                                 561.98450                                5   \n",
       "3                                 561.98450                                5   \n",
       "4                                 390.56840                                5   \n",
       "..                                      ...                              ...   \n",
       "409                              4082.01500                                0   \n",
       "410                                90.45606                                9   \n",
       "411                               390.96960                                7   \n",
       "412                               104.81010                                5   \n",
       "413                                90.45606                                9   \n",
       "\n",
       "     X5 latitude  X6 longitude  Y house price of unit area  \n",
       "0       24.98298     121.54024                        37.9  \n",
       "1       24.98034     121.53951                        42.2  \n",
       "2       24.98746     121.54391                        47.3  \n",
       "3       24.98746     121.54391                        54.8  \n",
       "4       24.97937     121.54245                        43.1  \n",
       "..           ...           ...                         ...  \n",
       "409     24.94155     121.50381                        15.4  \n",
       "410     24.97433     121.54310                        50.0  \n",
       "411     24.97923     121.53986                        40.6  \n",
       "412     24.96674     121.54067                        52.5  \n",
       "413     24.97433     121.54310                        63.9  \n",
       "\n",
       "[414 rows x 7 columns]"
      ],
      "text/html": [
       "<div>\n",
       "<style scoped>\n",
       "    .dataframe tbody tr th:only-of-type {\n",
       "        vertical-align: middle;\n",
       "    }\n",
       "\n",
       "    .dataframe tbody tr th {\n",
       "        vertical-align: top;\n",
       "    }\n",
       "\n",
       "    .dataframe thead th {\n",
       "        text-align: right;\n",
       "    }\n",
       "</style>\n",
       "<table border=\"1\" class=\"dataframe\">\n",
       "  <thead>\n",
       "    <tr style=\"text-align: right;\">\n",
       "      <th></th>\n",
       "      <th>X1 transaction date</th>\n",
       "      <th>X2 house age</th>\n",
       "      <th>X3 distance to the nearest MRT station</th>\n",
       "      <th>X4 number of convenience stores</th>\n",
       "      <th>X5 latitude</th>\n",
       "      <th>X6 longitude</th>\n",
       "      <th>Y house price of unit area</th>\n",
       "    </tr>\n",
       "  </thead>\n",
       "  <tbody>\n",
       "    <tr>\n",
       "      <th>0</th>\n",
       "      <td>2012.917</td>\n",
       "      <td>32.0</td>\n",
       "      <td>84.87882</td>\n",
       "      <td>10</td>\n",
       "      <td>24.98298</td>\n",
       "      <td>121.54024</td>\n",
       "      <td>37.9</td>\n",
       "    </tr>\n",
       "    <tr>\n",
       "      <th>1</th>\n",
       "      <td>2012.917</td>\n",
       "      <td>19.5</td>\n",
       "      <td>306.59470</td>\n",
       "      <td>9</td>\n",
       "      <td>24.98034</td>\n",
       "      <td>121.53951</td>\n",
       "      <td>42.2</td>\n",
       "    </tr>\n",
       "    <tr>\n",
       "      <th>2</th>\n",
       "      <td>2013.583</td>\n",
       "      <td>13.3</td>\n",
       "      <td>561.98450</td>\n",
       "      <td>5</td>\n",
       "      <td>24.98746</td>\n",
       "      <td>121.54391</td>\n",
       "      <td>47.3</td>\n",
       "    </tr>\n",
       "    <tr>\n",
       "      <th>3</th>\n",
       "      <td>2013.500</td>\n",
       "      <td>13.3</td>\n",
       "      <td>561.98450</td>\n",
       "      <td>5</td>\n",
       "      <td>24.98746</td>\n",
       "      <td>121.54391</td>\n",
       "      <td>54.8</td>\n",
       "    </tr>\n",
       "    <tr>\n",
       "      <th>4</th>\n",
       "      <td>2012.833</td>\n",
       "      <td>5.0</td>\n",
       "      <td>390.56840</td>\n",
       "      <td>5</td>\n",
       "      <td>24.97937</td>\n",
       "      <td>121.54245</td>\n",
       "      <td>43.1</td>\n",
       "    </tr>\n",
       "    <tr>\n",
       "      <th>...</th>\n",
       "      <td>...</td>\n",
       "      <td>...</td>\n",
       "      <td>...</td>\n",
       "      <td>...</td>\n",
       "      <td>...</td>\n",
       "      <td>...</td>\n",
       "      <td>...</td>\n",
       "    </tr>\n",
       "    <tr>\n",
       "      <th>409</th>\n",
       "      <td>2013.000</td>\n",
       "      <td>13.7</td>\n",
       "      <td>4082.01500</td>\n",
       "      <td>0</td>\n",
       "      <td>24.94155</td>\n",
       "      <td>121.50381</td>\n",
       "      <td>15.4</td>\n",
       "    </tr>\n",
       "    <tr>\n",
       "      <th>410</th>\n",
       "      <td>2012.667</td>\n",
       "      <td>5.6</td>\n",
       "      <td>90.45606</td>\n",
       "      <td>9</td>\n",
       "      <td>24.97433</td>\n",
       "      <td>121.54310</td>\n",
       "      <td>50.0</td>\n",
       "    </tr>\n",
       "    <tr>\n",
       "      <th>411</th>\n",
       "      <td>2013.250</td>\n",
       "      <td>18.8</td>\n",
       "      <td>390.96960</td>\n",
       "      <td>7</td>\n",
       "      <td>24.97923</td>\n",
       "      <td>121.53986</td>\n",
       "      <td>40.6</td>\n",
       "    </tr>\n",
       "    <tr>\n",
       "      <th>412</th>\n",
       "      <td>2013.000</td>\n",
       "      <td>8.1</td>\n",
       "      <td>104.81010</td>\n",
       "      <td>5</td>\n",
       "      <td>24.96674</td>\n",
       "      <td>121.54067</td>\n",
       "      <td>52.5</td>\n",
       "    </tr>\n",
       "    <tr>\n",
       "      <th>413</th>\n",
       "      <td>2013.500</td>\n",
       "      <td>6.5</td>\n",
       "      <td>90.45606</td>\n",
       "      <td>9</td>\n",
       "      <td>24.97433</td>\n",
       "      <td>121.54310</td>\n",
       "      <td>63.9</td>\n",
       "    </tr>\n",
       "  </tbody>\n",
       "</table>\n",
       "<p>414 rows × 7 columns</p>\n",
       "</div>"
      ]
     },
     "execution_count": 3,
     "metadata": {},
     "output_type": "execute_result"
    }
   ],
   "execution_count": 3
  },
  {
   "metadata": {
    "ExecuteTime": {
     "end_time": "2024-09-14T07:18:41.790319Z",
     "start_time": "2024-09-14T07:18:41.779646Z"
    }
   },
   "cell_type": "code",
   "source": "df_combined.describe(include='all')",
   "id": "827ae4daeceafa9b",
   "outputs": [
    {
     "data": {
      "text/plain": [
       "       X1 transaction date  X2 house age  \\\n",
       "count           414.000000    414.000000   \n",
       "mean           2013.148971     17.712560   \n",
       "std               0.281967     11.392485   \n",
       "min            2012.667000      0.000000   \n",
       "25%            2012.917000      9.025000   \n",
       "50%            2013.167000     16.100000   \n",
       "75%            2013.417000     28.150000   \n",
       "max            2013.583000     43.800000   \n",
       "\n",
       "       X3 distance to the nearest MRT station  \\\n",
       "count                              414.000000   \n",
       "mean                              1083.885689   \n",
       "std                               1262.109595   \n",
       "min                                 23.382840   \n",
       "25%                                289.324800   \n",
       "50%                                492.231300   \n",
       "75%                               1454.279000   \n",
       "max                               6488.021000   \n",
       "\n",
       "       X4 number of convenience stores  X5 latitude  X6 longitude  \\\n",
       "count                       414.000000   414.000000    414.000000   \n",
       "mean                          4.094203    24.969030    121.533361   \n",
       "std                           2.945562     0.012410      0.015347   \n",
       "min                           0.000000    24.932070    121.473530   \n",
       "25%                           1.000000    24.963000    121.528085   \n",
       "50%                           4.000000    24.971100    121.538630   \n",
       "75%                           6.000000    24.977455    121.543305   \n",
       "max                          10.000000    25.014590    121.566270   \n",
       "\n",
       "       Y house price of unit area  \n",
       "count                  414.000000  \n",
       "mean                    37.980193  \n",
       "std                     13.606488  \n",
       "min                      7.600000  \n",
       "25%                     27.700000  \n",
       "50%                     38.450000  \n",
       "75%                     46.600000  \n",
       "max                    117.500000  "
      ],
      "text/html": [
       "<div>\n",
       "<style scoped>\n",
       "    .dataframe tbody tr th:only-of-type {\n",
       "        vertical-align: middle;\n",
       "    }\n",
       "\n",
       "    .dataframe tbody tr th {\n",
       "        vertical-align: top;\n",
       "    }\n",
       "\n",
       "    .dataframe thead th {\n",
       "        text-align: right;\n",
       "    }\n",
       "</style>\n",
       "<table border=\"1\" class=\"dataframe\">\n",
       "  <thead>\n",
       "    <tr style=\"text-align: right;\">\n",
       "      <th></th>\n",
       "      <th>X1 transaction date</th>\n",
       "      <th>X2 house age</th>\n",
       "      <th>X3 distance to the nearest MRT station</th>\n",
       "      <th>X4 number of convenience stores</th>\n",
       "      <th>X5 latitude</th>\n",
       "      <th>X6 longitude</th>\n",
       "      <th>Y house price of unit area</th>\n",
       "    </tr>\n",
       "  </thead>\n",
       "  <tbody>\n",
       "    <tr>\n",
       "      <th>count</th>\n",
       "      <td>414.000000</td>\n",
       "      <td>414.000000</td>\n",
       "      <td>414.000000</td>\n",
       "      <td>414.000000</td>\n",
       "      <td>414.000000</td>\n",
       "      <td>414.000000</td>\n",
       "      <td>414.000000</td>\n",
       "    </tr>\n",
       "    <tr>\n",
       "      <th>mean</th>\n",
       "      <td>2013.148971</td>\n",
       "      <td>17.712560</td>\n",
       "      <td>1083.885689</td>\n",
       "      <td>4.094203</td>\n",
       "      <td>24.969030</td>\n",
       "      <td>121.533361</td>\n",
       "      <td>37.980193</td>\n",
       "    </tr>\n",
       "    <tr>\n",
       "      <th>std</th>\n",
       "      <td>0.281967</td>\n",
       "      <td>11.392485</td>\n",
       "      <td>1262.109595</td>\n",
       "      <td>2.945562</td>\n",
       "      <td>0.012410</td>\n",
       "      <td>0.015347</td>\n",
       "      <td>13.606488</td>\n",
       "    </tr>\n",
       "    <tr>\n",
       "      <th>min</th>\n",
       "      <td>2012.667000</td>\n",
       "      <td>0.000000</td>\n",
       "      <td>23.382840</td>\n",
       "      <td>0.000000</td>\n",
       "      <td>24.932070</td>\n",
       "      <td>121.473530</td>\n",
       "      <td>7.600000</td>\n",
       "    </tr>\n",
       "    <tr>\n",
       "      <th>25%</th>\n",
       "      <td>2012.917000</td>\n",
       "      <td>9.025000</td>\n",
       "      <td>289.324800</td>\n",
       "      <td>1.000000</td>\n",
       "      <td>24.963000</td>\n",
       "      <td>121.528085</td>\n",
       "      <td>27.700000</td>\n",
       "    </tr>\n",
       "    <tr>\n",
       "      <th>50%</th>\n",
       "      <td>2013.167000</td>\n",
       "      <td>16.100000</td>\n",
       "      <td>492.231300</td>\n",
       "      <td>4.000000</td>\n",
       "      <td>24.971100</td>\n",
       "      <td>121.538630</td>\n",
       "      <td>38.450000</td>\n",
       "    </tr>\n",
       "    <tr>\n",
       "      <th>75%</th>\n",
       "      <td>2013.417000</td>\n",
       "      <td>28.150000</td>\n",
       "      <td>1454.279000</td>\n",
       "      <td>6.000000</td>\n",
       "      <td>24.977455</td>\n",
       "      <td>121.543305</td>\n",
       "      <td>46.600000</td>\n",
       "    </tr>\n",
       "    <tr>\n",
       "      <th>max</th>\n",
       "      <td>2013.583000</td>\n",
       "      <td>43.800000</td>\n",
       "      <td>6488.021000</td>\n",
       "      <td>10.000000</td>\n",
       "      <td>25.014590</td>\n",
       "      <td>121.566270</td>\n",
       "      <td>117.500000</td>\n",
       "    </tr>\n",
       "  </tbody>\n",
       "</table>\n",
       "</div>"
      ]
     },
     "execution_count": 4,
     "metadata": {},
     "output_type": "execute_result"
    }
   ],
   "execution_count": 4
  },
  {
   "metadata": {
    "ExecuteTime": {
     "end_time": "2024-09-14T07:18:41.962116Z",
     "start_time": "2024-09-14T07:18:41.958143Z"
    }
   },
   "cell_type": "code",
   "source": "df_combined.info()",
   "id": "556f56a3be433d8e",
   "outputs": [
    {
     "name": "stdout",
     "output_type": "stream",
     "text": [
      "<class 'pandas.core.frame.DataFrame'>\n",
      "RangeIndex: 414 entries, 0 to 413\n",
      "Data columns (total 7 columns):\n",
      " #   Column                                  Non-Null Count  Dtype  \n",
      "---  ------                                  --------------  -----  \n",
      " 0   X1 transaction date                     414 non-null    float64\n",
      " 1   X2 house age                            414 non-null    float64\n",
      " 2   X3 distance to the nearest MRT station  414 non-null    float64\n",
      " 3   X4 number of convenience stores         414 non-null    int64  \n",
      " 4   X5 latitude                             414 non-null    float64\n",
      " 5   X6 longitude                            414 non-null    float64\n",
      " 6   Y house price of unit area              414 non-null    float64\n",
      "dtypes: float64(6), int64(1)\n",
      "memory usage: 22.8 KB\n"
     ]
    }
   ],
   "execution_count": 5
  },
  {
   "metadata": {},
   "cell_type": "markdown",
   "source": [
    "The dataset contains 414 records and 8 columns.There are no data with missing values.  \n",
    "Structure of the data:\n",
    "\n",
    "- `No`: Record number.\n",
    "- `X1 transaction date`: Transaction date (in year and fraction of a month format).\n",
    "- `2 house age: Age of the house in years`.\n",
    "- `X3 distance to the nearest MRT station`: Distance to the nearest MRT station (in meters).\n",
    "- `X4 number of convenience stores`: Number of stores in the neighborhood.\n",
    "- `X5 latitude`: Latitude of the property location.\n",
    "- `X6 longitude`: Longitude of the property location.\n",
    "- `Y house price of unit area` : The price of the property per unit area (target variable)."
   ],
   "id": "9ab45cf7db43e535"
  },
  {
   "metadata": {},
   "cell_type": "markdown",
   "source": "## 4.3 Data preparation",
   "id": "278aa978cd8c6647"
  },
  {
   "metadata": {},
   "cell_type": "markdown",
   "source": "First, let's see what the data set looks like",
   "id": "8533b143b975543"
  },
  {
   "metadata": {
    "ExecuteTime": {
     "end_time": "2024-09-14T07:18:43.038356Z",
     "start_time": "2024-09-14T07:18:42.108190Z"
    }
   },
   "cell_type": "code",
   "source": "df_combined.hist(bins=50, figsize=[15,12]);",
   "id": "9929e82c1514c101",
   "outputs": [
    {
     "data": {
      "text/plain": [
       "<Figure size 1500x1200 with 9 Axes>"
      ],
      "image/png": "[encoded data removed]"
     },
     "metadata": {},
     "output_type": "display_data"
    }
   ],
   "execution_count": 6
  },
  {
   "metadata": {},
   "cell_type": "markdown",
   "source": "Проверим данные на наличие корреляции",
   "id": "84227ccdc602ee69"
  },
  {
   "metadata": {
    "ExecuteTime": {
     "end_time": "2024-09-14T07:18:43.450544Z",
     "start_time": "2024-09-14T07:18:43.070535Z"
    }
   },
   "cell_type": "code",
   "source": [
    "from statsmodels.stats.outliers_influence import variance_inflation_factor\n",
    "\n",
    "# Рассчитываем VIF для каждого признака\n",
    "vif_data = pd.DataFrame()\n",
    "vif_data[\"Feature\"] = X.columns\n",
    "vif_data[\"VIF\"] = [variance_inflation_factor(X.values, i) for i in range(len(X.columns))]\n",
    "\n",
    "print(vif_data)\n"
   ],
   "id": "300b5cfd6bbc1494",
   "outputs": [
    {
     "name": "stdout",
     "output_type": "stream",
     "text": [
      "                                  Feature           VIF\n",
      "0                     X1 transaction date  4.253389e+07\n",
      "1                            X2 house age  3.471392e+00\n",
      "2  X3 distance to the nearest MRT station  4.261358e+00\n",
      "3         X4 number of convenience stores  4.748152e+00\n",
      "4                             X5 latitude  6.178301e+06\n",
      "5                            X6 longitude  4.198817e+07\n"
     ]
    }
   ],
   "execution_count": 7
  },
  {
   "metadata": {},
   "cell_type": "markdown",
   "source": "Один из признаков имеет высокий коэффициент мультиколлинеарности. Так проект учебный, то мы не станем его удалять, но в реальной жизни коэффициенты мультиколлинеарности следует учитывать и оценивать его влияние на модель.",
   "id": "1e584fab11a4681"
  },
  {
   "metadata": {},
   "cell_type": "markdown",
   "source": "Линейная регрессия чувствительна к масштабу признаков, особенно если диапазоны значений отличаются значительно. Например, расстояние до станции метро (в метрах) и количество магазинов имеют разные масштабы. Рекомендуется нормализовать или стандартизировать признаки, чтобы улучшить сходимость модели. В этом случае мы будем использовать стандартизацию, так как она менее чувствительна к выбросам.",
   "id": "6217ccd72859cce8"
  },
  {
   "metadata": {},
   "cell_type": "markdown",
   "source": "Но чтобы стандартизировать данные, нам нужно сначала разделить данные на обучающий и валидационный наборы. А перед этим выделить тестовую часть для финальной оценки эффективности модели.",
   "id": "396b1f44d23fac0c"
  },
  {
   "metadata": {
    "ExecuteTime": {
     "end_time": "2024-09-14T07:18:43.596272Z",
     "start_time": "2024-09-14T07:18:43.488101Z"
    }
   },
   "cell_type": "code",
   "source": [
    "from sklearn.model_selection import train_test_split\n",
    "# Dataset separation\n",
    "# 80% of the data will be used for training and 20% for testing\n",
    "work_data, test_data, work_targets, test_targets = train_test_split(df_x, df_y, test_size=0.2)\n",
    "\n",
    "# Then we will divide the work data into training and validation data\n",
    "train_data, val_data, train_targets, val_targets = train_test_split(work_data, work_targets, test_size=0.2)"
   ],
   "id": "8fad987b1593a8ef",
   "outputs": [],
   "execution_count": 8
  },
  {
   "metadata": {},
   "cell_type": "markdown",
   "source": "Далее стандартизуем полученные наборы данных",
   "id": "158dd3d2ce482d91"
  },
  {
   "metadata": {
    "ExecuteTime": {
     "end_time": "2024-09-14T07:18:43.901052Z",
     "start_time": "2024-09-14T07:18:43.892596Z"
    }
   },
   "cell_type": "code",
   "source": [
    "from sklearn.preprocessing import StandardScaler\n",
    "# Standardization of data\n",
    "scaler = StandardScaler()\n",
    "train_data = scaler.fit_transform(train_data)\n",
    "val_data = scaler.fit_transform(val_data)\n",
    "test_data = scaler.fit_transform(test_data)\n",
    "work_data = scaler.fit_transform(work_data)"
   ],
   "id": "d809359e9cbadd3e",
   "outputs": [],
   "execution_count": 9
  },
  {
   "metadata": {},
   "cell_type": "markdown",
   "source": "Так как мы так же будем строить модель логической регрессии, то преобразуем целевую переменную в бинарный формат.",
   "id": "d6df8ff830da5b19"
  },
  {
   "metadata": {
    "ExecuteTime": {
     "end_time": "2024-09-14T07:18:44.021167Z",
     "start_time": "2024-09-14T07:18:44.017810Z"
    }
   },
   "cell_type": "code",
   "source": [
    "median_price = train_targets.median()\n",
    "train_targets_binary = (train_targets > median_price).astype(int)\n",
    "val_targets_binary = (val_targets > median_price).astype(int)\n",
    "test_targets_binary = (test_targets > median_price).astype(int)\n",
    "work_targets_binary = (work_targets > median_price).astype(int)"
   ],
   "id": "7c046032b8a635e",
   "outputs": [],
   "execution_count": 10
  },
  {
   "metadata": {},
   "cell_type": "markdown",
   "source": "Посмотрим на данные после преобразований",
   "id": "88347b552dc10f13"
  },
  {
   "metadata": {},
   "cell_type": "markdown",
   "source": "## 4.4 Modeling",
   "id": "c74e4b731973479"
  },
  {
   "metadata": {},
   "cell_type": "markdown",
   "source": "### 4.4.1 Linear regression",
   "id": "1b96dcc6c663e1d5"
  },
  {
   "metadata": {
    "ExecuteTime": {
     "end_time": "2024-09-14T07:18:44.170110Z",
     "start_time": "2024-09-14T07:18:44.136272Z"
    }
   },
   "cell_type": "code",
   "source": [
    "from sklearn.metrics import confusion_matrix\n",
    "import matplotlib.pyplot as plt\n",
    "from sklearn.metrics import classification_report\n",
    "from sklearn.linear_model import LinearRegression\n",
    "# Create a model\n",
    "model_linear = LinearRegression(fit_intercept = True)\n",
    "model_linear.fit(train_data, train_targets)\n",
    "\n",
    "# Predictions\n",
    "predictions = model_linear.predict(val_data)"
   ],
   "id": "d2af9014ebd1e902",
   "outputs": [],
   "execution_count": 11
  },
  {
   "metadata": {
    "ExecuteTime": {
     "end_time": "2024-09-14T07:18:44.181661Z",
     "start_time": "2024-09-14T07:18:44.176135Z"
    }
   },
   "cell_type": "code",
   "source": [
    "from sklearn.metrics import mean_squared_error, mean_absolute_error, r2_score\n",
    "# Calculate the error metrics\n",
    "mse = mean_squared_error(val_targets, predictions)\n",
    "mae = mean_absolute_error(val_targets, predictions)\n",
    "R2 = r2_score(val_targets, predictions)"
   ],
   "id": "a035cfec97753bd8",
   "outputs": [],
   "execution_count": 12
  },
  {
   "metadata": {
    "ExecuteTime": {
     "end_time": "2024-09-14T07:18:44.217180Z",
     "start_time": "2024-09-14T07:18:44.214186Z"
    }
   },
   "cell_type": "code",
   "source": [
    "print(\"b =\", model_linear.intercept_)\n",
    "print(\"W =\", model_linear.coef_)\n",
    "print(\"R^2 =\", R2)\n",
    "print(\"MSE =\", mse)\n",
    "print(\"MAE =\", mae)"
   ],
   "id": "915dfbc7fb5c275c",
   "outputs": [
    {
     "name": "stdout",
     "output_type": "stream",
     "text": [
      "b = [37.65871212]\n",
      "W = [[ 1.39416302 -2.95104929 -4.22178236  3.53472191  2.91218407  0.89196724]]\n",
      "R^2 = 0.44087909844184814\n",
      "MSE = 153.91773626264794\n",
      "MAE = 7.1260446386873095\n"
     ]
    }
   ],
   "execution_count": 13
  },
  {
   "metadata": {},
   "cell_type": "markdown",
   "source": "### 4.4.2 Logistic regression",
   "id": "9862cffe25b0a521"
  },
  {
   "metadata": {
    "ExecuteTime": {
     "end_time": "2024-09-14T07:18:58.237933Z",
     "start_time": "2024-09-14T07:18:58.232272Z"
    }
   },
   "cell_type": "code",
   "source": [
    "from sklearn.linear_model import LogisticRegression\n",
    "from sklearn.utils import column_or_1d\n",
    "\n",
    "# Transform the target variable to 1d array\n",
    "work_targets_binary = column_or_1d(work_targets_binary, warn=True)\n",
    "\n",
    "# Create a model\n",
    "model_reg = LogisticRegression(solver='lbfgs').fit(work_data, work_targets_binary)\n",
    "\n",
    "print(\"Coefficients: \",model_reg.coef_)\n",
    "print(\"Intercept: \", model_reg.intercept_)"
   ],
   "id": "900679d45b13c0bd",
   "outputs": [
    {
     "name": "stdout",
     "output_type": "stream",
     "text": [
      "Coefficients:  [[ 0.29392973 -0.72287358 -1.99783355  0.57843036  0.97032908  0.21198799]]\n",
      "Intercept:  [-0.71119225]\n"
     ]
    }
   ],
   "execution_count": 21
  },
  {
   "metadata": {
    "ExecuteTime": {
     "end_time": "2024-09-14T07:19:02.226043Z",
     "start_time": "2024-09-14T07:19:02.142929Z"
    }
   },
   "cell_type": "code",
   "source": [
    "# cross-validation\n",
    "from sklearn.model_selection import cross_val_predict\n",
    "\n",
    "y_pred = cross_val_predict(estimator=model_reg, X=work_data, y=work_targets_binary, cv=10)\n",
    "\n",
    "# confusion matrix\n",
    "cm = confusion_matrix(work_targets_binary, y_pred)\n",
    "\n",
    "# visualize confusion matrix\n",
    "plt.matshow(cm)\n",
    "plt.title('Confusion matrix')\n",
    "plt.colorbar()\n",
    "plt.ylabel('True label')\n",
    "plt.xlabel('Predicted label')\n",
    "# include counts\n",
    "for i in range(2):\n",
    "    for j in range(2):\n",
    "        plt.text(j, i, cm[i, j], ha='center', va='center', color='red')\n",
    "plt.show()"
   ],
   "id": "62747cc973e17dcb",
   "outputs": [
    {
     "data": {
      "text/plain": [
       "<Figure size 480x480 with 2 Axes>"
      ],
      "image/png": "[encoded data removed]"
     },
     "metadata": {},
     "output_type": "display_data"
    }
   ],
   "execution_count": 22
  },
  {
   "metadata": {
    "ExecuteTime": {
     "end_time": "2024-09-14T07:18:44.479040Z",
     "start_time": "2024-09-14T07:18:44.473694Z"
    }
   },
   "cell_type": "code",
   "source": "print(classification_report(work_targets_binary, y_pred))",
   "id": "372ef4936f9bccc7",
   "outputs": [
    {
     "name": "stdout",
     "output_type": "stream",
     "text": [
      "              precision    recall  f1-score   support\n",
      "\n",
      "           0       0.84      0.75      0.79       167\n",
      "           1       0.77      0.85      0.81       164\n",
      "\n",
      "    accuracy                           0.80       331\n",
      "   macro avg       0.81      0.80      0.80       331\n",
      "weighted avg       0.81      0.80      0.80       331\n",
      "\n"
     ]
    }
   ],
   "execution_count": 16
  },
  {
   "metadata": {},
   "cell_type": "markdown",
   "source": "The model seems to predict the outcome quite well, with an accuracy of 0.83. Contransting this to the performance of a random classifier, which would have an accuracy of 0.5, the model seems to be doing a decent job.",
   "id": "2bc747b1febd2614"
  },
  {
   "metadata": {},
   "cell_type": "markdown",
   "source": "## 4.5 Evaluation",
   "id": "c5147831bcd7a052"
  },
  {
   "metadata": {},
   "cell_type": "markdown",
   "source": "### 4.5.1 Linear regression",
   "id": "e94f0e9b3f1950ef"
  },
  {
   "metadata": {},
   "cell_type": "markdown",
   "source": "Оценим точность модели линейной регрессии на тестовом наборе данных",
   "id": "de4cac8f103f3d2e"
  },
  {
   "metadata": {
    "ExecuteTime": {
     "end_time": "2024-09-14T07:18:44.510121Z",
     "start_time": "2024-09-14T07:18:44.507845Z"
    }
   },
   "cell_type": "code",
   "source": [
    "# model_linear.fit(work_data, work_targets) ???\n",
    "predictions = model_linear.predict(test_data)"
   ],
   "id": "89bcb612475f8635",
   "outputs": [],
   "execution_count": 17
  },
  {
   "metadata": {
    "ExecuteTime": {
     "end_time": "2024-09-14T07:18:44.545154Z",
     "start_time": "2024-09-14T07:18:44.540375Z"
    }
   },
   "cell_type": "code",
   "source": [
    "# Calculate the error metrics\n",
    "mse = mean_squared_error(test_targets, predictions)\n",
    "mae = mean_absolute_error(test_targets, predictions)\n",
    "R2 = r2_score(test_targets, predictions)"
   ],
   "id": "374e4401f812001e",
   "outputs": [],
   "execution_count": 18
  },
  {
   "metadata": {
    "ExecuteTime": {
     "end_time": "2024-09-14T07:18:44.576581Z",
     "start_time": "2024-09-14T07:18:44.573814Z"
    }
   },
   "cell_type": "code",
   "source": [
    "print(\"b =\", model_linear.intercept_)\n",
    "print(\"W =\", model_linear.coef_)\n",
    "print(\"R^2 =\", R2)\n",
    "print(\"MSE =\", mse)\n",
    "print(\"MAE =\", mae)"
   ],
   "id": "f7dd3883e92491dd",
   "outputs": [
    {
     "name": "stdout",
     "output_type": "stream",
     "text": [
      "b = [37.65871212]\n",
      "W = [[ 1.39416302 -2.95104929 -4.22178236  3.53472191  2.91218407  0.89196724]]\n",
      "R^2 = 0.7506766844464435\n",
      "MSE = 38.96475588351665\n",
      "MAE = 5.1825349100794345\n"
     ]
    }
   ],
   "execution_count": 19
  },
  {
   "metadata": {},
   "cell_type": "markdown",
   "source": "### 4.5.2 Logistic regression",
   "id": "d33c642ba22a91a7"
  },
  {
   "metadata": {
    "ExecuteTime": {
     "end_time": "2024-09-14T07:21:12.636256Z",
     "start_time": "2024-09-14T07:21:12.565270Z"
    }
   },
   "cell_type": "code",
   "source": [
    "# Прогнозируем на тестовых данных\n",
    "y_test_pred = model_reg.predict(test_data)\n",
    "\n",
    "# Confusion matrix\n",
    "cm_test = confusion_matrix(test_targets_binary, y_test_pred)\n",
    "\n",
    "# visualize confusion matrix\n",
    "plt.matshow(cm)\n",
    "plt.title('Confusion matrix')\n",
    "plt.colorbar()\n",
    "plt.ylabel('True label')\n",
    "plt.xlabel('Predicted label')\n",
    "# include counts\n",
    "for i in range(2):\n",
    "    for j in range(2):\n",
    "        plt.text(j, i, cm[i, j], ha='center', va='center', color='red')\n",
    "plt.show()"
   ],
   "id": "9b95b496e959c96f",
   "outputs": [
    {
     "data": {
      "text/plain": [
       "<Figure size 480x480 with 2 Axes>"
      ],
      "image/png": "[encoded data removed]"
     },
     "metadata": {},
     "output_type": "display_data"
    }
   ],
   "execution_count": 25
  },
  {
   "metadata": {
    "ExecuteTime": {
     "end_time": "2024-09-14T07:21:46.744442Z",
     "start_time": "2024-09-14T07:21:46.737339Z"
    }
   },
   "cell_type": "code",
   "source": [
    "# Отчет по классификации (precision, recall, F1-score)\n",
    "print(\"Отчет по классификации на тестовых данных:\")\n",
    "print(classification_report(test_targets_binary, y_test_pred))"
   ],
   "id": "ef7807e55e1b131d",
   "outputs": [
    {
     "name": "stdout",
     "output_type": "stream",
     "text": [
      "Отчет по классификации на тестовых данных:\n",
      "              precision    recall  f1-score   support\n",
      "\n",
      "           0       0.89      0.82      0.86        40\n",
      "           1       0.85      0.91      0.88        43\n",
      "\n",
      "    accuracy                           0.87        83\n",
      "   macro avg       0.87      0.87      0.87        83\n",
      "weighted avg       0.87      0.87      0.87        83\n",
      "\n"
     ]
    }
   ],
   "execution_count": 27
  },
  {
   "metadata": {
    "ExecuteTime": {
     "end_time": "2024-09-14T08:31:35.316225Z",
     "start_time": "2024-09-14T08:31:06.142373Z"
    }
   },
   "cell_type": "code",
   "source": [
    "# interactive prediction\n",
    "\n",
    "features=['X1 transaction date', 'X2 house age', 'X3 distance to the nearest MRT station', 'X4 number of convenience stores', 'X5 latitude', 'X6 longitude']\n",
    "\n",
    "Xi = pd.DataFrame(columns=features)\n",
    "\n",
    "# read input data\n",
    "for f in features:\n",
    "    val = input(f\"Enter value for feature: {f}\")\n",
    "    Xi[f] = [float(val)]\n",
    "\n",
    "# get probability estimate\n",
    "Xi = pd.DataFrame(scaler.transform(Xi), columns=Xi.columns)\n",
    "p = model_reg.predict_proba(Xi)[:,1]\n",
    "\n",
    "# output\n",
    "print(\"Probability that house price is lower: %0.2f\" % p[0]);"
   ],
   "id": "49106faf5fe5c8ad",
   "outputs": [
    {
     "name": "stdout",
     "output_type": "stream",
     "text": [
      "Probability that house price is lower: 0.99\n"
     ]
    },
    {
     "name": "stderr",
     "output_type": "stream",
     "text": [
      "C:\\Users\\vdis0\\anaconda3\\Lib\\site-packages\\sklearn\\base.py:486: UserWarning: X has feature names, but LogisticRegression was fitted without feature names\n",
      "  warnings.warn(\n"
     ]
    }
   ],
   "execution_count": 31
  },
  {
   "metadata": {
    "ExecuteTime": {
     "end_time": "2024-09-14T08:37:35.599595Z",
     "start_time": "2024-09-14T08:37:33.858156Z"
    }
   },
   "cell_type": "code",
   "source": [
    "# feature importance\n",
    "from sklearn.inspection import permutation_importance\n",
    "\n",
    "result = permutation_importance(model_reg, test_data, test_targets_binary, n_repeats=10, scoring=\"accuracy\", random_state=0, n_jobs=-1)\n",
    "sorted_idx = result.importances_mean.argsort()\n",
    "\n",
    "fig, ax = plt.subplots()\n",
    "ax.boxplot(result.importances[sorted_idx].T, vert=False, tick_labels=X.columns[sorted_idx])\n",
    "ax.set_title(\"Permutation Importance\")\n",
    "fig.tight_layout()\n",
    "plt.show()"
   ],
   "id": "e9be702020af50f6",
   "outputs": [
    {
     "data": {
      "text/plain": [
       "<Figure size 640x480 with 1 Axes>"
      ],
      "image/png": "[encoded data removed]"
     },
     "metadata": {},
     "output_type": "display_data"
    }
   ],
   "execution_count": 32
  },
  {
   "metadata": {},
   "cell_type": "markdown",
   "source": "",
   "id": "242bea9985579b32"
  },
  {
   "metadata": {},
   "cell_type": "markdown",
   "source": "## 4.6 Deployment",
   "id": "d1d067cc18f2eb8"
  },
  {
   "metadata": {
    "ExecuteTime": {
     "end_time": "2024-09-14T07:18:45.170000600Z",
     "start_time": "2024-09-13T12:48:46.816459Z"
    }
   },
   "cell_type": "code",
   "source": "",
   "id": "b0b4f88d1d540f7c",
   "outputs": [],
   "execution_count": null
  },
  {
   "metadata": {
    "ExecuteTime": {
     "end_time": "2024-09-14T07:18:45.170998700Z",
     "start_time": "2024-09-13T12:48:46.842768Z"
    }
   },
   "cell_type": "code",
   "source": "",
   "id": "b234be54adb790f5",
   "outputs": [],
   "execution_count": null
  }
 ],
 "metadata": {
  "kernelspec": {
   "display_name": "Python 3",
   "language": "python",
   "name": "python3"
  },
  "language_info": {
   "codemirror_mode": {
    "name": "ipython",
    "version": 2
   },
   "file_extension": ".py",
   "mimetype": "text/x-python",
   "name": "python",
   "nbconvert_exporter": "python",
   "pygments_lexer": "ipython2",
   "version": "2.7.6"
  }
 },
 "nbformat": 4,
 "nbformat_minor": 5
}
